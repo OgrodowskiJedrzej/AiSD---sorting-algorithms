{
 "cells": [
  {
   "cell_type": "markdown",
   "metadata": {},
   "source": [
    "#### Libraries"
   ]
  },
  {
   "cell_type": "code",
   "execution_count": 6,
   "metadata": {},
   "outputs": [],
   "source": [
    "import numpy as np\n",
    "import pandas as pd\n",
    "import matplotlib.pyplot as plt\n",
    "import seaborn as sns"
   ]
  },
  {
   "cell_type": "markdown",
   "metadata": {},
   "source": [
    "#### Data"
   ]
  },
  {
   "cell_type": "code",
   "execution_count": 2,
   "metadata": {},
   "outputs": [
    {
     "data": {
      "text/html": [
       "<div>\n",
       "<style scoped>\n",
       "    .dataframe tbody tr th:only-of-type {\n",
       "        vertical-align: middle;\n",
       "    }\n",
       "\n",
       "    .dataframe tbody tr th {\n",
       "        vertical-align: top;\n",
       "    }\n",
       "\n",
       "    .dataframe thead th {\n",
       "        text-align: right;\n",
       "    }\n",
       "</style>\n",
       "<table border=\"1\" class=\"dataframe\">\n",
       "  <thead>\n",
       "    <tr style=\"text-align: right;\">\n",
       "      <th></th>\n",
       "      <th>Algorithm</th>\n",
       "      <th>InputSize</th>\n",
       "      <th>Time</th>\n",
       "      <th>TypeOfData</th>\n",
       "    </tr>\n",
       "  </thead>\n",
       "  <tbody>\n",
       "    <tr>\n",
       "      <th>0</th>\n",
       "      <td>shell_sort</td>\n",
       "      <td>4</td>\n",
       "      <td>0.00</td>\n",
       "      <td>random_array</td>\n",
       "    </tr>\n",
       "    <tr>\n",
       "      <th>1</th>\n",
       "      <td>shell_sort</td>\n",
       "      <td>8</td>\n",
       "      <td>0.00</td>\n",
       "      <td>random_array</td>\n",
       "    </tr>\n",
       "    <tr>\n",
       "      <th>2</th>\n",
       "      <td>shell_sort</td>\n",
       "      <td>16</td>\n",
       "      <td>0.00</td>\n",
       "      <td>random_array</td>\n",
       "    </tr>\n",
       "    <tr>\n",
       "      <th>3</th>\n",
       "      <td>shell_sort</td>\n",
       "      <td>32</td>\n",
       "      <td>0.00</td>\n",
       "      <td>random_array</td>\n",
       "    </tr>\n",
       "    <tr>\n",
       "      <th>4</th>\n",
       "      <td>shell_sort</td>\n",
       "      <td>64</td>\n",
       "      <td>0.00</td>\n",
       "      <td>random_array</td>\n",
       "    </tr>\n",
       "  </tbody>\n",
       "</table>\n",
       "</div>"
      ],
      "text/plain": [
       "    Algorithm  InputSize  Time    TypeOfData\n",
       "0  shell_sort          4  0.00  random_array\n",
       "1  shell_sort          8  0.00  random_array\n",
       "2  shell_sort         16  0.00  random_array\n",
       "3  shell_sort         32  0.00  random_array\n",
       "4  shell_sort         64  0.00  random_array"
      ]
     },
     "execution_count": 2,
     "metadata": {},
     "output_type": "execute_result"
    }
   ],
   "source": [
    "data = pd.read_csv('data/benchmark_results.csv')\n",
    "data.head()"
   ]
  },
  {
   "cell_type": "code",
   "execution_count": 16,
   "metadata": {},
   "outputs": [],
   "source": [
    "data.Time = data.Time.transform(lambda t: np.nan if 'C' in t else t)\n",
    "data.Time = data.Time.astype('float32')"
   ]
  },
  {
   "cell_type": "markdown",
   "metadata": {},
   "source": [
    "# Graphs"
   ]
  },
  {
   "cell_type": "code",
   "execution_count": 57,
   "metadata": {},
   "outputs": [],
   "source": [
    "def convertText(text):\n",
    "    return \" \".join([word[0].upper() + word[1:] for word in text.split('_')])"
   ]
  },
  {
   "cell_type": "code",
   "execution_count": 89,
   "metadata": {},
   "outputs": [],
   "source": [
    "colors = {\n",
    "    'random_array': '#ae00ff',\n",
    "    'increasing_array': '#ff0000',\n",
    "    'decreasing_array': '#780000',\n",
    "    'constant_array': '#d18708',\n",
    "    'a_shaped_array': '#b3ffa3'\n",
    "}\n",
    "\n",
    "yscale = {\n",
    "    'shell_sort': {'max': 0.5, 'n': 6},\n",
    "    'quick_sort_random_pivot': {'max': 10, 'n': 6},\n",
    "    'selection_sort': {'max': 175, 'n': 8},\n",
    "    'insertion_sort': {'max': 175, 'n': 8},\n",
    "    'heap_sort': {'max': 0.6, 'n': 7},\n",
    "    'quick_sort_left_pivot': {'max': 10, 'n': 6}\n",
    "}"
   ]
  },
  {
   "cell_type": "code",
   "execution_count": 98,
   "metadata": {},
   "outputs": [
    {
     "data": {
      "text/plain": [
       "<Figure size 640x480 with 0 Axes>"
      ]
     },
     "metadata": {},
     "output_type": "display_data"
    }
   ],
   "source": [
    "for algorithm in data.Algorithm.unique():\n",
    "    plt.clf()\n",
    "    plt.style.use('ggplot')\n",
    "    fig, ax = plt.subplots(figsize=(8, 6), dpi=150)\n",
    "    subest = data[data.Algorithm == algorithm]\n",
    "\n",
    "    for typeOfData in data.TypeOfData.unique():\n",
    "        typeArray = subest[subest.TypeOfData == typeOfData]\n",
    "        ax.plot(typeArray.InputSize, typeArray.Time, color=colors[typeOfData], alpha=0.75)\n",
    "        ax.scatter(typeArray.InputSize, typeArray.Time, label=convertText(typeOfData), color=colors[typeOfData], alpha=0.75)\n",
    "\n",
    "    for orirntation in ['bottom', 'top', 'right', 'left']:\n",
    "        ax.spines[orirntation].set_color('black')\n",
    "\n",
    "    plt.title(convertText(algorithm), fontsize=20)\n",
    "    plt.xlabel(\"Number of items\")\n",
    "    plt.ylabel(\"Run time\")\n",
    "    yTicks = np.linspace(0, yscale[algorithm]['max'], yscale[algorithm]['n'])\n",
    "    if algorithm in ['shell_sort', 'heap_sort']:\n",
    "        plt.yticks(yTicks, [f\"{tick:.1f} sec.\" for tick in yTicks])\n",
    "    else:\n",
    "        plt.yticks(yTicks, [f\"{int(tick)} sec.\" for tick in yTicks])\n",
    "    plt.legend(edgecolor='black')\n",
    "    plt.savefig(f'graphs/{algorithm}.png')\n",
    "    plt.close()"
   ]
  }
 ],
 "metadata": {
  "kernelspec": {
   "display_name": "Python 3",
   "language": "python",
   "name": "python3"
  },
  "language_info": {
   "codemirror_mode": {
    "name": "ipython",
    "version": 3
   },
   "file_extension": ".py",
   "mimetype": "text/x-python",
   "name": "python",
   "nbconvert_exporter": "python",
   "pygments_lexer": "ipython3",
   "version": "3.12.2"
  }
 },
 "nbformat": 4,
 "nbformat_minor": 2
}
